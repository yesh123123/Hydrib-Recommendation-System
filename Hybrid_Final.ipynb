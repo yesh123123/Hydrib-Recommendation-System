{
  "nbformat": 4,
  "nbformat_minor": 0,
  "metadata": {
    "colab": {
      "provenance": []
    },
    "kernelspec": {
      "name": "python3",
      "display_name": "Python 3"
    },
    "language_info": {
      "name": "python"
    }
  },
  "cells": [
    {
      "cell_type": "code",
      "execution_count": 2,
      "metadata": {
        "id": "FVXlISZqB3Fq"
      },
      "outputs": [],
      "source": [
        "import pandas as pd\n",
        "import numpy as np\n",
        "from sklearn.model_selection import train_test_split\n",
        "from sklearn.preprocessing import StandardScaler\n",
        "from keras.preprocessing.text import Tokenizer\n",
        "from keras.preprocessing.sequence import pad_sequences\n",
        "from sklearn.metrics.pairwise import cosine_similarity\n",
        "import tensorflow as tf\n",
        "from tensorflow.keras.layers import Input, Embedding, Flatten, Concatenate, Dense, Conv1D, GlobalMaxPooling1D, Add, Attention, Reshape, Dropout\n",
        "from tensorflow.keras.models import Model\n",
        "from tensorflow.keras.optimizers import SGD, Adam\n",
        "from sklearn.model_selection import GridSearchCV\n",
        "from sklearn.base import BaseEstimator, RegressorMixin\n",
        "from tensorflow.keras.layers import BatchNormalization\n",
        "from tensorflow.keras.regularizers import l2\n",
        "from tensorflow.keras.callbacks import EarlyStopping\n",
        "from sklearn.utils import shuffle\n",
        "import matplotlib.pyplot as plt\n",
        "from sklearn.metrics import mean_squared_error, mean_absolute_error, r2_score\n",
        "\n",
        "\n",
        "\n",
        "\n",
        "\n",
        "\n",
        "\n",
        "\n",
        "\n"
      ]
    },
    {
      "cell_type": "code",
      "source": [
        "# # Load anime data\n",
        "# from google.colab import files\n",
        "# uploaded = files.upload()\n",
        "#"
      ],
      "metadata": {
        "id": "_LqjIqrMDArl"
      },
      "execution_count": null,
      "outputs": []
    },
    {
      "cell_type": "code",
      "source": [
        "from sklearn.feature_extraction.text import TfidfVectorizer\n",
        "movie_data=pd.read_csv('movie.csv')\n",
        "movie_data = movie_data.dropna(subset=['genres'])\n",
        "movie_data = movie_data.drop_duplicates(subset=['title'])\n",
        "\n",
        "# Combine relevant text features into a single 'content' column\n",
        "movie_data['content'] = movie_data['genres'] + ' ' + movie_data['title']\n",
        "\n",
        "# Tokenize and compute TF-IDF vectors\n",
        "vectorizer = TfidfVectorizer(stop_words='english')\n",
        "tfidf_matrix = vectorizer.fit_transform(movie_data['content'])\n",
        "\n",
        "# Compute cosine similarity matrix\n",
        "cosine_sim = cosine_similarity(tfidf_matrix, tfidf_matrix)\n",
        "\n"
      ],
      "metadata": {
        "id": "IUdVgg71DyYS"
      },
      "execution_count": 3,
      "outputs": []
    },
    {
      "cell_type": "code",
      "source": [
        "def get_content_based_recommendations(movie_title, cosine_sim=cosine_sim, movie_data=movie_data):\n",
        "    movie_title = movie_title.lower()\n",
        "    movie_titles_lower = movie_data['title'].str.lower()\n",
        "    if movie_title not in movie_titles_lower.values:\n",
        "        return []  # Return empty list if movie not found\n",
        "    movie_idx = movie_data.index[movie_titles_lower == movie_title].tolist()[0]\n",
        "    sim_scores = list(enumerate(cosine_sim[movie_idx]))\n",
        "    sim_scores = sorted(sim_scores, key=lambda x: x[1], reverse=True)\n",
        "    sim_scores = sim_scores[1:11]  # Get top 10 similar movies (excluding itself)\n",
        "    recommendations = [{'title': movie_data.iloc[i[0]]['title'], 'genres': movie_data.iloc[i[0]]['genres'], 'score': i[1]} for i in sim_scores]\n",
        "    return recommendations"
      ],
      "metadata": {
        "id": "wsFbGRgNaia7"
      },
      "execution_count": 21,
      "outputs": []
    },
    {
      "cell_type": "code",
      "source": [],
      "metadata": {
        "id": "YDjswPw3FO1n"
      },
      "execution_count": null,
      "outputs": []
    },
    {
      "cell_type": "code",
      "source": [
        "df = pd.read_csv('rating.csv')\n",
        "\n",
        "# Encode user and movie IDs\n",
        "df.userId = pd.Categorical(df.userId)\n",
        "df['new_user_id'] = df.userId.cat.codes\n",
        "\n",
        "df.movieId = pd.Categorical(df.movieId)\n",
        "df['new_movie_id'] = df.movieId.cat.codes"
      ],
      "metadata": {
        "id": "MwZsYI8nDBz8"
      },
      "execution_count": 5,
      "outputs": []
    },
    {
      "cell_type": "code",
      "source": [
        "N = len(set(df['new_user_id']))\n",
        "M = len(set(df['new_movie_id']))\n",
        "\n",
        "# Embedding dimension\n",
        "K = 12\n",
        "\n",
        "X = np.array([df['new_user_id'], df['new_movie_id']]).T\n",
        "y = df['rating'].values"
      ],
      "metadata": {
        "id": "3Yk15ZqhDJ4G"
      },
      "execution_count": 6,
      "outputs": []
    },
    {
      "cell_type": "code",
      "source": [
        "X_train, X_test, y_train, y_test = train_test_split(X, y, test_size=0.20, random_state=42)\n",
        "\n",
        "\n"
      ],
      "metadata": {
        "id": "40763O5YDKFW"
      },
      "execution_count": 7,
      "outputs": []
    },
    {
      "cell_type": "code",
      "source": [
        "scaler = StandardScaler(with_std=False)\n",
        "y_train_scaled = scaler.fit_transform(y_train.reshape(-1, 1))\n",
        "y_test_scaled = scaler.transform(y_test.reshape(-1, 1))"
      ],
      "metadata": {
        "id": "S3WPF6ZgcU37"
      },
      "execution_count": 8,
      "outputs": []
    },
    {
      "cell_type": "code",
      "source": [
        "X_train_reshaped = list(X_train.T)\n",
        "X_test_reshaped = list(X_test.T)"
      ],
      "metadata": {
        "id": "5TlCoiLqcdFX"
      },
      "execution_count": 9,
      "outputs": []
    },
    {
      "cell_type": "code",
      "source": [
        "# Input layers\n",
        "u = Input(shape=(1,))\n",
        "m = Input(shape=(1,))\n",
        "\n",
        "# Embedding layers for collaborative filtering\n",
        "u_emb = Embedding(N, K)(u)\n",
        "m_emb = Embedding(M, K)(m)\n",
        "\n",
        "# Flatten the embeddings\n",
        "u_emb = Flatten()(u_emb)\n",
        "m_emb = Flatten()(m_emb)\n",
        "\n",
        "# Autoencoder for User Embedding\n",
        "u_encoded = Dense(K // 2, activation='relu')(u_emb)\n",
        "u_decoded = Dense(K, activation='relu')(u_encoded)\n",
        "u_autoencoder = Model(u, u_decoded)\n",
        "u_encoded_output = u_autoencoder(u)\n",
        "\n",
        "# Autoencoder for Movie Embedding\n",
        "m_encoded = Dense(K // 2, activation='relu')(m_emb)\n",
        "m_decoded = Dense(K, activation='relu')(m_encoded)\n",
        "m_autoencoder = Model(m, m_decoded)\n",
        "m_encoded_output = m_autoencoder(m)\n",
        "\n",
        "# Combine encoded user and movie embeddings\n",
        "x = Concatenate()([u_encoded_output, m_encoded_output])\n",
        "x = Reshape((2, K))(x)  # Reshape for CNN\n",
        "\n",
        "# CNN Layer for Feature Extraction\n",
        "x = Conv1D(filters=64, kernel_size=2, activation='relu')(x)\n",
        "cnn_output = GlobalMaxPooling1D()(x)\n",
        "\n",
        "# Attention Mechanism\n",
        "query = Dense(64)(cnn_output)\n",
        "key = Dense(64)(cnn_output)\n",
        "value = Dense(64)(cnn_output)\n",
        "attention_output = Attention()([query, key, value])\n",
        "\n",
        "# Combine CNN and Attention outputs\n",
        "combined = Add()([cnn_output, attention_output])\n",
        "# Dense layers (Final Prediction Layer)\n",
        "x = Flatten()(combined)\n",
        "x = Dense(128, activation='relu')(x)  # Reduce number of neurons to 128\n",
        "x = Dropout(0.5)(x)\n",
        "x = Dense(1)(x)\n",
        "\n",
        "model = Model(inputs=[u, m], outputs=x)\n",
        "\n",
        "# Compile the model\n",
        "model.compile(optimizer=tf.keras.optimizers.SGD(lr=0.1, momentum=0.9),\n",
        "              loss='mse',\n",
        "              metrics=['accuracy'])\n",
        "\n",
        "\n",
        "\n",
        "\n"
      ],
      "metadata": {
        "colab": {
          "base_uri": "https://localhost:8080/"
        },
        "id": "aJ5hib1uCqBV",
        "outputId": "d0c4403a-6069-47cb-96ae-edcd5c204563"
      },
      "execution_count": 10,
      "outputs": [
        {
          "output_type": "stream",
          "name": "stderr",
          "text": [
            "WARNING:absl:`lr` is deprecated in Keras optimizer, please use `learning_rate` or use the legacy optimizer, e.g.,tf.keras.optimizers.legacy.SGD.\n"
          ]
        }
      ]
    },
    {
      "cell_type": "code",
      "source": [
        "# Train the model\n",
        "r = model.fit(x=X_train_reshaped, y=y_train_scaled,\n",
        "              validation_data=(X_test_reshaped, y_test_scaled),\n",
        "              epochs=25,\n",
        "              batch_size=1024,\n",
        "              verbose=2)"
      ],
      "metadata": {
        "colab": {
          "base_uri": "https://localhost:8080/"
        },
        "id": "HR7iocxGCqWj",
        "outputId": "483d0c68-2cb1-4e27-aa64-11d7f8b7e5bc"
      },
      "execution_count": 13,
      "outputs": [
        {
          "output_type": "stream",
          "name": "stdout",
          "text": [
            "Epoch 1/25\n",
            "1208/1208 - 53s - loss: 0.9677 - accuracy: 0.0000e+00 - val_loss: 0.8164 - val_accuracy: 0.0000e+00 - 53s/epoch - 44ms/step\n",
            "Epoch 2/25\n",
            "1208/1208 - 54s - loss: 0.7930 - accuracy: 0.0000e+00 - val_loss: 0.7604 - val_accuracy: 0.0000e+00 - 54s/epoch - 45ms/step\n",
            "Epoch 3/25\n",
            "1208/1208 - 54s - loss: 0.7612 - accuracy: 0.0000e+00 - val_loss: 0.7463 - val_accuracy: 0.0000e+00 - 54s/epoch - 44ms/step\n",
            "Epoch 4/25\n",
            "1208/1208 - 53s - loss: 0.7492 - accuracy: 0.0000e+00 - val_loss: 0.7411 - val_accuracy: 0.0000e+00 - 53s/epoch - 44ms/step\n",
            "Epoch 5/25\n",
            "1208/1208 - 52s - loss: 0.7440 - accuracy: 0.0000e+00 - val_loss: 0.7392 - val_accuracy: 0.0000e+00 - 52s/epoch - 43ms/step\n",
            "Epoch 6/25\n",
            "1208/1208 - 54s - loss: 0.7386 - accuracy: 0.0000e+00 - val_loss: 0.7421 - val_accuracy: 0.0000e+00 - 54s/epoch - 45ms/step\n",
            "Epoch 7/25\n",
            "1208/1208 - 54s - loss: 0.7330 - accuracy: 0.0000e+00 - val_loss: 0.7325 - val_accuracy: 0.0000e+00 - 54s/epoch - 44ms/step\n",
            "Epoch 8/25\n",
            "1208/1208 - 54s - loss: 0.7275 - accuracy: 0.0000e+00 - val_loss: 0.7273 - val_accuracy: 0.0000e+00 - 54s/epoch - 45ms/step\n",
            "Epoch 9/25\n",
            "1208/1208 - 52s - loss: 0.7223 - accuracy: 0.0000e+00 - val_loss: 0.7220 - val_accuracy: 0.0000e+00 - 52s/epoch - 43ms/step\n",
            "Epoch 10/25\n",
            "1208/1208 - 52s - loss: 0.7173 - accuracy: 0.0000e+00 - val_loss: 0.7197 - val_accuracy: 0.0000e+00 - 52s/epoch - 43ms/step\n",
            "Epoch 11/25\n",
            "1208/1208 - 55s - loss: 0.7124 - accuracy: 0.0000e+00 - val_loss: 0.7167 - val_accuracy: 0.0000e+00 - 55s/epoch - 46ms/step\n",
            "Epoch 12/25\n",
            "1208/1208 - 55s - loss: 0.7090 - accuracy: 0.0000e+00 - val_loss: 0.7136 - val_accuracy: 0.0000e+00 - 55s/epoch - 46ms/step\n",
            "Epoch 13/25\n",
            "1208/1208 - 52s - loss: 0.7058 - accuracy: 0.0000e+00 - val_loss: 0.7155 - val_accuracy: 0.0000e+00 - 52s/epoch - 43ms/step\n",
            "Epoch 14/25\n",
            "1208/1208 - 55s - loss: 0.7036 - accuracy: 0.0000e+00 - val_loss: 0.7133 - val_accuracy: 0.0000e+00 - 55s/epoch - 45ms/step\n",
            "Epoch 15/25\n",
            "1208/1208 - 53s - loss: 0.7018 - accuracy: 0.0000e+00 - val_loss: 0.7107 - val_accuracy: 0.0000e+00 - 53s/epoch - 44ms/step\n",
            "Epoch 16/25\n",
            "1208/1208 - 54s - loss: 0.7003 - accuracy: 0.0000e+00 - val_loss: 0.7152 - val_accuracy: 0.0000e+00 - 54s/epoch - 44ms/step\n",
            "Epoch 17/25\n",
            "1208/1208 - 53s - loss: 0.6989 - accuracy: 0.0000e+00 - val_loss: 0.7122 - val_accuracy: 0.0000e+00 - 53s/epoch - 44ms/step\n",
            "Epoch 18/25\n",
            "1208/1208 - 58s - loss: 0.6975 - accuracy: 0.0000e+00 - val_loss: 0.7099 - val_accuracy: 0.0000e+00 - 58s/epoch - 48ms/step\n",
            "Epoch 19/25\n",
            "1208/1208 - 53s - loss: 0.6966 - accuracy: 0.0000e+00 - val_loss: 0.7097 - val_accuracy: 0.0000e+00 - 53s/epoch - 43ms/step\n",
            "Epoch 20/25\n",
            "1208/1208 - 51s - loss: 0.6950 - accuracy: 0.0000e+00 - val_loss: 0.7076 - val_accuracy: 0.0000e+00 - 51s/epoch - 42ms/step\n",
            "Epoch 21/25\n",
            "1208/1208 - 54s - loss: 0.6933 - accuracy: 0.0000e+00 - val_loss: 0.7074 - val_accuracy: 0.0000e+00 - 54s/epoch - 44ms/step\n",
            "Epoch 22/25\n",
            "1208/1208 - 56s - loss: 0.6920 - accuracy: 0.0000e+00 - val_loss: 0.7087 - val_accuracy: 0.0000e+00 - 56s/epoch - 46ms/step\n",
            "Epoch 23/25\n",
            "1208/1208 - 53s - loss: 0.6901 - accuracy: 0.0000e+00 - val_loss: 0.7051 - val_accuracy: 0.0000e+00 - 53s/epoch - 44ms/step\n",
            "Epoch 24/25\n",
            "1208/1208 - 52s - loss: 0.6877 - accuracy: 0.0000e+00 - val_loss: 0.7025 - val_accuracy: 0.0000e+00 - 52s/epoch - 43ms/step\n",
            "Epoch 25/25\n",
            "1208/1208 - 55s - loss: 0.6863 - accuracy: 0.0000e+00 - val_loss: 0.7017 - val_accuracy: 0.0000e+00 - 55s/epoch - 45ms/step\n"
          ]
        }
      ]
    },
    {
      "cell_type": "code",
      "source": [
        "np.sqrt(.7017)"
      ],
      "metadata": {
        "id": "QR7sUQiPHyfV",
        "colab": {
          "base_uri": "https://localhost:8080/"
        },
        "outputId": "2963b6e7-672b-40a3-c52b-4f3f74409b2c"
      },
      "execution_count": 26,
      "outputs": [
        {
          "output_type": "execute_result",
          "data": {
            "text/plain": [
              "0.8376753547765388"
            ]
          },
          "metadata": {},
          "execution_count": 26
        }
      ]
    },
    {
      "cell_type": "code",
      "source": [
        "# Plot the loss\n",
        "plt.plot(r.history['loss'], label='loss')\n",
        "plt.plot(r.history['val_loss'], label='val_loss')\n",
        "plt.title(\"Loss and Validation Loss vs. Epoch\")\n",
        "plt.ylabel('Loss')\n",
        "plt.xlabel('Epoch')\n",
        "plt.legend()\n",
        "plt.show()"
      ],
      "metadata": {
        "colab": {
          "base_uri": "https://localhost:8080/",
          "height": 472
        },
        "id": "-fXt1-ANCqdb",
        "outputId": "36cf5ac6-9b48-456e-fc03-c0683e9f71c7"
      },
      "execution_count": 14,
      "outputs": [
        {
          "output_type": "display_data",
          "data": {
            "text/plain": [
              "<Figure size 640x480 with 1 Axes>"
            ],
            "image/png": "[encoded data removed]"
          },
          "metadata": {}
        }
      ]
    },
    {
      "cell_type": "code",
      "source": [
        "def get_collaborative_recommendations(user_id, top_n=10):\n",
        "    # Ensure user_id is correctly mapped\n",
        "    if user_id not in df.userId.cat.categories:\n",
        "        return []  # Return empty list if user_id is not found\n",
        "    user_id_idx = df.userId.cat.categories.get_loc(user_id)\n",
        "    user_input = np.array([user_id_idx] * M)\n",
        "    movie_input = np.array(range(M))\n",
        "    predictions = model.predict([user_input, movie_input])\n",
        "    predicted_ratings = predictions.flatten()\n",
        "    top_indices = np.argsort(predicted_ratings)[-top_n:]\n",
        "\n",
        "    recommendations = []\n",
        "    for i in top_indices:\n",
        "        title = df.movieId.cat.categories[i]\n",
        "        genres = movie_data.loc[movie_data['title'] == title, 'genres']\n",
        "        if not genres.empty:\n",
        "            recommendations.append({'title': title, 'genres': genres.values[0], 'score': predicted_ratings[i]})\n",
        "    return recommendations"
      ],
      "metadata": {
        "id": "Nsl40ABPCqfr"
      },
      "execution_count": 24,
      "outputs": []
    },
    {
      "cell_type": "code",
      "source": [
        "def hybrid_recommendations(movie_title, user_id, content_weight=0.5):\n",
        "    content_recs = get_content_based_recommendations(movie_title)\n",
        "    collaborative_recs = get_collaborative_recommendations(user_id)\n",
        "\n",
        "    # Combine recommendations\n",
        "    blended_recs = {}\n",
        "    for rec in content_recs:\n",
        "        if rec['title'] not in blended_recs:\n",
        "            blended_recs[rec['title']] = {'genres': rec['genres'], 'score': content_weight * rec['score']}\n",
        "        else:\n",
        "            blended_recs[rec['title']]['score'] += content_weight * rec['score']\n",
        "\n",
        "    for rec in collaborative_recs:\n",
        "        if rec['title'] not in blended_recs:\n",
        "            blended_recs[rec['title']] = {'genres': rec['genres'], 'score': (1 - content_weight) * rec['score']}\n",
        "        else:\n",
        "            blended_recs[rec['title']]['score'] += (1 - content_weight) * rec['score']\n",
        "\n",
        "    # Sort recommendations by score\n",
        "    blended_recs = sorted(blended_recs.items(), key=lambda x: x[1]['score'], reverse=True)\n",
        "\n",
        "    return [{'title': rec[0], 'genres': rec[1]['genres'], 'score': rec[1]['score']} for rec in blended_recs[:10]]\n",
        "\n",
        "# Example usage\n",
        "print(hybrid_recommendations('Toy Story (1995)', 2))"
      ],
      "metadata": {
        "id": "6q3cdVilCqhr",
        "colab": {
          "base_uri": "https://localhost:8080/"
        },
        "outputId": "b790f9df-424f-4262-8b53-c47a438ebf43"
      },
      "execution_count": 25,
      "outputs": [
        {
          "output_type": "stream",
          "name": "stdout",
          "text": [
            "492/492 [==============================] - 1s 2ms/step\n",
            "[{'title': 'Toy Story 2 (1999)', 'genres': 'Adventure|Animation|Children|Comedy|Fantasy', 'score': 0.43713017361467493}, {'title': 'Toy Story 3 (2010)', 'genres': 'Adventure|Animation|Children|Comedy|Fantasy|IMAX', 'score': 0.40725128906036073}, {'title': 'Toy Story of Terror (2013)', 'genres': 'Animation|Children|Comedy', 'score': 0.3482669889046556}, {'title': 'Toy Story That Time Forgot (2014)', 'genres': 'Animation|Children', 'score': 0.29207145262255085}, {'title': 'Toy Story Toons: Small Fry (2011)', 'genres': 'Adventure|Animation|Children|Comedy|Fantasy', 'score': 0.28972770285623894}, {'title': 'Toy Story Toons: Hawaiian Vacation (2011)', 'genres': 'Adventure|Animation|Children|Comedy|Fantasy', 'score': 0.28799007149378103}, {'title': 'Tin Toy (1988)', 'genres': 'Animation|Children', 'score': 0.2627777689162044}, {'title': 'Toy, The (1982)', 'genres': 'Comedy', 'score': 0.26119373721784}, {'title': 'Toy Story Toons: Partysaurus Rex (2012)', 'genres': 'Animation|Children|Comedy', 'score': 0.24216313817307994}, {'title': 'Christmas Toy, The (1986)', 'genres': 'Children|Musical', 'score': 0.23531678099250844}]\n"
          ]
        }
      ]
    },
    {
      "cell_type": "code",
      "source": [],
      "metadata": {
        "id": "oH9Bst2RCqlD"
      },
      "execution_count": null,
      "outputs": []
    }
  ]
}